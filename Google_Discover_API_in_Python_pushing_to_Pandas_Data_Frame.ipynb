{
  "nbformat": 4,
  "nbformat_minor": 0,
  "metadata": {
    "colab": {
      "name": "Google Discover API in Python ... pushing to Pandas Data Frame",
      "provenance": [],
      "collapsed_sections": [],
      "authorship_tag": "ABX9TyOTkhmCoaIUW5THvVH4vWsZ",
      "include_colab_link": true
    },
    "kernelspec": {
      "display_name": "Python 3",
      "name": "python3"
    },
    "language_info": {
      "name": "python"
    }
  },
  "cells": [
    {
      "cell_type": "markdown",
      "metadata": {
        "id": "view-in-github",
        "colab_type": "text"
      },
      "source": [
        "<a href=\"https://colab.research.google.com/github/Zrce/Google-Discover-API-in-Python/blob/main/Google_Discover_API_in_Python_pushing_to_Pandas_Data_Frame.ipynb\" target=\"_parent\"><img src=\"https://colab.research.google.com/assets/colab-badge.svg\" alt=\"Open In Colab\"/></a>"
      ]
    },
    {
      "cell_type": "code",
      "metadata": {
        "id": "-dSIy6j5LADT"
      },
      "source": [
        "from google.oauth2 import service_account\n",
        "from googleapiclient.discovery import build\n",
        "import os\n",
        "from google.colab import drive\n",
        "import json\n",
        "import pandas as pd\n",
        "import datetime as DT"
      ],
      "execution_count": 17,
      "outputs": []
    },
    {
      "cell_type": "code",
      "metadata": {
        "colab": {
          "base_uri": "https://localhost:8080/"
        },
        "id": "Uzve_q7wrB1f",
        "outputId": "4ced97c0-129e-4353-e6aa-05382e529ef5"
      },
      "source": [
        "#Start and end date\n",
        "today = DT.date.today()\n",
        "week_ago_start = today - DT.timedelta(days=9)\n",
        "week_ago_end = today - DT.timedelta(days=2)\n",
        "print(week_ago_start)\n",
        "print(week_ago_end)"
      ],
      "execution_count": 18,
      "outputs": [
        {
          "output_type": "stream",
          "name": "stdout",
          "text": [
            "2021-10-17\n",
            "2021-10-24\n"
          ]
        }
      ]
    },
    {
      "cell_type": "code",
      "metadata": {
        "colab": {
          "base_uri": "https://localhost:8080/"
        },
        "id": "Ic503KW2gEhw",
        "outputId": "626cb67a-ccc6-47f7-e331-3554ff3bf04e"
      },
      "source": [
        "#Access Drive\n",
        "drive.mount('/content/drive')\n",
        "os.chdir(\"/content/drive/My Drive/Colab Notebooks/GSC/\")\n",
        "os.listdir()\n",
        "#Get GSC key file in the same folder\n",
        "key = 'gscblick-590cb1886f0d.json'"
      ],
      "execution_count": 19,
      "outputs": [
        {
          "output_type": "stream",
          "name": "stdout",
          "text": [
            "Drive already mounted at /content/drive; to attempt to forcibly remount, call drive.mount(\"/content/drive\", force_remount=True).\n"
          ]
        }
      ]
    },
    {
      "cell_type": "code",
      "metadata": {
        "id": "gkl5L8SMgEpM"
      },
      "source": [
        "#Connect GSC \n",
        "def connect(key):\n",
        "  scope = ['https://www.googleapis.com/auth/webmasters']\n",
        "  credentials = service_account.Credentials.from_service_account_file(key, scopes=scope)\n",
        "  service = build('searchconsole','v1',credentials=credentials)\n",
        "  return service"
      ],
      "execution_count": 20,
      "outputs": []
    },
    {
      "cell_type": "code",
      "metadata": {
        "id": "9RLVwkxTgEuo"
      },
      "source": [
        "def query(service, site_url, payload):\n",
        "  response = service.searchanalytics().query(siteUrl=site_url, body=payload).execute()\n",
        "  print(response)\n",
        "  results = []\n",
        "\n",
        "  for row in response['rows']:    \n",
        "    data = {}\n",
        "    \n",
        "    for i in range(len(payload['dimensions'])):\n",
        "      data[payload['dimensions'][i]] = row['keys'][i]\n",
        "\n",
        "    data['clicks'] = row['clicks']\n",
        "    data['impressions'] = row['impressions']\n",
        "    results.append(data)\n",
        "  \n",
        "  return pd.DataFrame.from_dict(results)"
      ],
      "execution_count": 21,
      "outputs": []
    },
    {
      "cell_type": "code",
      "metadata": {
        "id": "VI_1dZzbkaDl"
      },
      "source": [
        "def queryDiscover():\n",
        "  service = connect(key)\n",
        "  payload = {\n",
        "    'startDate': str(week_ago_start),\n",
        "    'endDate': str(week_ago_end),\n",
        "    'dimensions': [\"page\"],\n",
        "    'type': 'discover'\n",
        "  }\n",
        "\n",
        "  site_url = \"https://www.blick.ch/\"\n",
        "  df = query(service, site_url, payload)\n",
        "  return df"
      ],
      "execution_count": 26,
      "outputs": []
    },
    {
      "cell_type": "code",
      "metadata": {
        "id": "ymirc_YZEKPs"
      },
      "source": [
        "dfDiscover = queryDiscover()\n",
        "dfDiscover"
      ],
      "execution_count": null,
      "outputs": []
    }
  ]
}